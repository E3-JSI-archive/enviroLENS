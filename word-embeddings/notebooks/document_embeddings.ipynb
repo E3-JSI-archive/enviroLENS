{
 "cells": [
  {
   "cell_type": "markdown",
   "metadata": {},
   "source": [
    "# Document Similarity\n",
    "### Using FastText Word Embedding\n",
    "https://fasttext.cc/docs/en/aligned-vectors.html"
   ]
  },
  {
   "cell_type": "code",
   "execution_count": 1,
   "metadata": {},
   "outputs": [],
   "source": [
    "import warnings\n",
    "warnings.filterwarnings(\"ignore\")\n",
    "from gensim.models import KeyedVectors\n",
    "import numpy as np\n",
    "from sklearn.manifold import TSNE\n",
    "import matplotlib.pyplot as plt\n",
    "import pickle\n",
    "import operator\n",
    "\n",
    "# import natural language toolkit\n",
    "from gensim.parsing.preprocessing import preprocess_string, strip_tags, strip_punctuation\n",
    "from nltk.corpus   import stopwords\n",
    "from nltk.tokenize import word_tokenize\n",
    "\n",
    "import string"
   ]
  },
  {
   "cell_type": "code",
   "execution_count": 2,
   "metadata": {
    "ExecuteTime": {
     "end_time": "2019-07-01T10:47:33.827801Z",
     "start_time": "2019-07-01T10:47:33.794337Z"
    }
   },
   "outputs": [],
   "source": [
    "from modules.library.postgresql import PostgresQL\n",
    "# # connect to the postgresql database\n",
    "pg = PostgresQL() \n",
    "pg.connect(database=\"eurlex_environment_only\", user=\"postgres\", password=\"dbpass\")"
   ]
  },
  {
   "cell_type": "code",
   "execution_count": 3,
   "metadata": {},
   "outputs": [],
   "source": [
    "from modules.library.word_models import WordModels"
   ]
  },
  {
   "cell_type": "code",
   "execution_count": 4,
   "metadata": {},
   "outputs": [],
   "source": [
    "from modules.library.document_similarity import DocumentSimilarity"
   ]
  },
  {
   "cell_type": "code",
   "execution_count": 5,
   "metadata": {},
   "outputs": [],
   "source": [
    "from modules.library.document_models import DocumentModels"
   ]
  },
  {
   "cell_type": "code",
   "execution_count": 6,
   "metadata": {},
   "outputs": [],
   "source": [
    "rand_seed = 4"
   ]
  },
  {
   "cell_type": "code",
   "execution_count": 7,
   "metadata": {},
   "outputs": [],
   "source": [
    "with open('objs.pkl', \"rb\") as f:\n",
    "    e = pickle.load(f)"
   ]
  },
  {
   "cell_type": "code",
   "execution_count": 8,
   "metadata": {},
   "outputs": [],
   "source": [
    "wv_en_align = e[0]\n",
    "documents = e[1]\n",
    "documents_stripped = e[2]\n",
    "we = e[3]\n",
    "docembeddings_transformed = e[4]\n",
    "XX = e[5]\n",
    "all_descriptors = e[6]\n",
    "descriptors_embedding = e[7] \n",
    "descriptors_embedding_transformed = e[8]\n",
    "we_trained = e[9]\n",
    "trained_docemb_transformed = e[10]\n",
    "tr_desc_emb = e[11]\n",
    "tr_desc_emb_transformed = e[12]"
   ]
  },
  {
   "cell_type": "markdown",
   "metadata": {},
   "source": [
    "Importing pre-trained FastText word embeddings of English words. We chose to use aligned word vectors, which will enable us to provide cross-lingual support."
   ]
  },
  {
   "cell_type": "code",
   "execution_count": 9,
   "metadata": {
    "ExecuteTime": {
     "end_time": "2019-07-01T10:46:21.380520Z",
     "start_time": "2019-07-01T10:36:55.595705Z"
    }
   },
   "outputs": [],
   "source": [
    "# wiki_en_align = '../data/fasttext/wiki.en.align.vec'\n",
    "# wiki_en_model = WordModels()\n",
    "# wiki_en_model.load(wiki_en_align)\n",
    "# print('english words {}'.format(len(list(wiki_en_model.embedding.vocab.keys()))))"
   ]
  },
  {
   "cell_type": "code",
   "execution_count": 10,
   "metadata": {},
   "outputs": [],
   "source": [
    "# with open(\"wwe.pkl\", \"wb\") as f:\n",
    "#     pickle.dump(wv_wiki_en, f, protocol=-1)"
   ]
  },
  {
   "cell_type": "code",
   "execution_count": 11,
   "metadata": {},
   "outputs": [],
   "source": [
    "with open(\"wwe.pkl\", \"rb\") as f:\n",
    "    wv_wiki_en = pickle.load(f)"
   ]
  },
  {
   "cell_type": "markdown",
   "metadata": {},
   "source": [
    "Importing documents from EUR-Lex database."
   ]
  },
  {
   "cell_type": "markdown",
   "metadata": {},
   "source": [
    "## Processing Data"
   ]
  },
  {
   "cell_type": "markdown",
   "metadata": {},
   "source": [
    "Preparing list of stopwords (words that appear regularly in the vocabulary and are not so significant for a specific document)."
   ]
  },
  {
   "cell_type": "code",
   "execution_count": 12,
   "metadata": {
    "ExecuteTime": {
     "end_time": "2019-07-01T11:10:47.979567Z",
     "start_time": "2019-07-01T11:10:47.972449Z"
    }
   },
   "outputs": [],
   "source": [
    "# prepare stopword list\n",
    "stop_words = stopwords.words('english') + list(string.punctuation)"
   ]
  },
  {
   "cell_type": "markdown",
   "metadata": {},
   "source": [
    "Tokenize the text of the document - remove stopwords and punctuation and split it in words. We also count the occurance of words in the document and order them by number of occurances decreasingly."
   ]
  },
  {
   "cell_type": "code",
   "execution_count": 13,
   "metadata": {
    "ExecuteTime": {
     "end_time": "2019-07-01T11:10:50.801818Z",
     "start_time": "2019-07-01T11:10:50.788273Z"
    }
   },
   "outputs": [],
   "source": [
    "# %load -s tokenize document_embeddings.py\n",
    "def tokenize(text, stop_words):\n",
    "    \"\"\"Tokenizes and removes stopwords from the document\"\"\"\n",
    "\n",
    "    def strip_comments(s):\n",
    "        s = s.replace('\"', '')\n",
    "        s = s.replace(\"'\", '')\n",
    "        s = s.replace('“', '')\n",
    "        s = s.replace('”', '')\n",
    "        return s\n",
    "\n",
    "    CUSTOM_FILTERS = [lambda x: x.lower(), strip_punctuation]\n",
    "\n",
    "    stripped_text = strip_comments(text)\n",
    "    tokens = preprocess_string(stripped_text, CUSTOM_FILTERS)\n",
    "    filtered = [w for w in tokens if not w in stop_words]\n",
    "\n",
    "    #return filtered\n",
    "    # get the most frequent words in the document\n",
    "    count = { }\n",
    "    for word in filtered:\n",
    "        if word not in count:\n",
    "            count[word] = 0\n",
    "        count[word] += 1\n",
    "\n",
    "    word_sorted = sorted(count.items(), key=operator.itemgetter(1), reverse=True)\n",
    "    return word_sorted\n"
   ]
  },
  {
   "cell_type": "code",
   "execution_count": 14,
   "metadata": {},
   "outputs": [],
   "source": [
    "#tokenize(documents[0]['document_text'], stop_words)"
   ]
  },
  {
   "cell_type": "code",
   "execution_count": 15,
   "metadata": {
    "ExecuteTime": {
     "end_time": "2019-07-01T11:23:10.212334Z",
     "start_time": "2019-07-01T11:23:10.207079Z"
    }
   },
   "outputs": [],
   "source": [
    "# %load -s euclid_similarity document_embeddings.py\n",
    "def euclid_similarity(emb1, emb2):\n",
    "    \"\"\"Calculate the euclid similarity between two embeddings\"\"\"\n",
    "    return np.linalg.norm(emb1 - emb2)\n"
   ]
  },
  {
   "cell_type": "code",
   "execution_count": 16,
   "metadata": {},
   "outputs": [
    {
     "data": {
      "text/plain": [
       "numpy.float32"
      ]
     },
     "execution_count": 16,
     "metadata": {},
     "output_type": "execute_result"
    }
   ],
   "source": [
    "type(euclid_similarity(we[0], we[1]))"
   ]
  },
  {
   "cell_type": "markdown",
   "metadata": {},
   "source": [
    "## Document embeddings\n",
    "\n",
    "In this section we write several document embeddings. They will be used later to find the optimal way to represent our data."
   ]
  },
  {
   "cell_type": "markdown",
   "metadata": {},
   "source": [
    "Save all documents of EUR-Lex database into a variable 'documents'."
   ]
  },
  {
   "cell_type": "code",
   "execution_count": 17,
   "metadata": {
    "ExecuteTime": {
     "end_time": "2019-07-01T11:31:33.885081Z",
     "start_time": "2019-07-01T11:30:46.659801Z"
    }
   },
   "outputs": [],
   "source": [
    "# documents = pg.execute(\"\"\"\n",
    "#     SELECT * FROM documents;\n",
    "# \"\"\")"
   ]
  },
  {
   "cell_type": "code",
   "execution_count": 18,
   "metadata": {},
   "outputs": [
    {
     "name": "stdout",
     "output_type": "stream",
     "text": [
      "123157\n"
     ]
    }
   ],
   "source": [
    "N = len(documents)\n",
    "print(N)"
   ]
  },
  {
   "cell_type": "code",
   "execution_count": 19,
   "metadata": {},
   "outputs": [],
   "source": [
    "# %load -s strip document_embeddings.py\n",
    "def strip(s, stopwords):\n",
    "    s = s.replace('\"', '')\n",
    "    s = s.replace(\"'\", '')\n",
    "    s = s.replace('“', '')\n",
    "    s = s.replace('”', '')\n",
    "    for w in stopwords:\n",
    "        s = s.replace(w, '')\n",
    "    return strip_punctuation(s)\n"
   ]
  },
  {
   "cell_type": "code",
   "execution_count": 20,
   "metadata": {},
   "outputs": [],
   "source": [
    "# documents_stripped = [strip(d['document_text'], stop_words) for d in documents]"
   ]
  },
  {
   "cell_type": "markdown",
   "metadata": {},
   "source": [
    "### Document embedding via word embeddings\n",
    "\n",
    "We will first implement a simple version of document embedding that relies on the fact, that we already have a basis of word embeddings. Document embedding will be defined as an average of word embeddings of words that appear in 'document_text'."
   ]
  },
  {
   "cell_type": "code",
   "execution_count": 21,
   "metadata": {
    "ExecuteTime": {
     "end_time": "2019-07-01T11:32:54.388637Z",
     "start_time": "2019-07-01T11:32:54.376146Z"
    }
   },
   "outputs": [],
   "source": [
    "# %load -s simple_docemb document_embeddings.py\n",
    "def simple_docemb(text, stopwords, wv):\n",
    "    \"\"\"Creates a document embedding as the average of corresponding token embeddings\"\"\"\n",
    "    embedding = np.zeros(wv.vector_size, dtype=np.float32)\n",
    "\n",
    "    if text is None:\n",
    "        return embedding\n",
    "\n",
    "    word_sorted = tokenize(text, stopwords)\n",
    "    norm = 0\n",
    "    for token in word_sorted:\n",
    "        # sum all tokens embeddings of the vector\n",
    "        if token in wv.vocab.keys():\n",
    "            embedding += wv[token]\n",
    "            norm += 1\n",
    "    # return the normalized embedding; if not zero\n",
    "    return embedding if norm == 0 else embedding / norm\n"
   ]
  },
  {
   "cell_type": "markdown",
   "metadata": {},
   "source": [
    "We embed documents in our database. As shown before the total number of documents in the database is more than 100.000, so we limit ourselves and embed only 15.000."
   ]
  },
  {
   "cell_type": "code",
   "execution_count": 22,
   "metadata": {
    "ExecuteTime": {
     "end_time": "2019-07-01T11:32:53.519647Z",
     "start_time": "2019-07-01T11:32:53.510771Z"
    }
   },
   "outputs": [],
   "source": [
    "# %load -s dataset_embedding document_embeddings.py\n",
    "def dataset_embedding(dataset, stopwords, wv, document_embedding):\n",
    "    \"\"\"Creates the dataset embeddings given a document_embedding function\"\"\"\n",
    "\n",
    "    embeddings = np.zeros((len(dataset), wv.vector_size), dtype=np.float32)\n",
    "    for id, document in enumerate(dataset):\n",
    "        text = document['document_text']\n",
    "        embeddings[id,:] = document_embedding(text, stopwords, wv)\n",
    "        if id % 10000 == 0:\n",
    "            print('Processed document number = {}'.format(id))\n",
    "    return embeddings\n"
   ]
  },
  {
   "cell_type": "code",
   "execution_count": 23,
   "metadata": {
    "ExecuteTime": {
     "end_time": "2019-07-01T12:28:11.781918Z",
     "start_time": "2019-07-01T12:23:22.175715Z"
    }
   },
   "outputs": [],
   "source": [
    "# limit = 15000\n",
    "# we = dataset_embedding(documents[:limit], stop_words, wv_wiki_en, simple_docemb)"
   ]
  },
  {
   "cell_type": "markdown",
   "metadata": {},
   "source": [
    "We filter through them and pick only the ones with non-zero embeddings (the ones with 'document_text' differet then 'None')."
   ]
  },
  {
   "cell_type": "code",
   "execution_count": 24,
   "metadata": {
    "ExecuteTime": {
     "end_time": "2019-07-01T12:31:23.516640Z",
     "start_time": "2019-07-01T12:31:23.321479Z"
    }
   },
   "outputs": [
    {
     "data": {
      "text/plain": [
       "15000"
      ]
     },
     "execution_count": 24,
     "metadata": {},
     "output_type": "execute_result"
    }
   ],
   "source": [
    "non_null = [x for x in we if np.linalg.norm(x) != 0]\n",
    "non_null_id = [i for i in range(len(we)) if np.linalg.norm(we[i]) != 0]\n",
    "len(non_null)"
   ]
  },
  {
   "cell_type": "markdown",
   "metadata": {},
   "source": [
    "In order to plot the embeddings we need to reduce the dimension to 2 (or 3). We use the TSNE method and plot the embeddings."
   ]
  },
  {
   "cell_type": "code",
   "execution_count": 25,
   "metadata": {
    "ExecuteTime": {
     "end_time": "2019-07-01T12:34:27.495230Z",
     "start_time": "2019-07-01T12:33:13.859005Z"
    }
   },
   "outputs": [],
   "source": [
    "# docembeddings_transformed = TSNE(n_components=2, random_state=rand_seed).fit_transform(non_null)"
   ]
  },
  {
   "cell_type": "code",
   "execution_count": 89,
   "metadata": {},
   "outputs": [
    {
     "data": {
      "text/plain": [
       "numpy.ndarray"
      ]
     },
     "execution_count": 89,
     "metadata": {},
     "output_type": "execute_result"
    }
   ],
   "source": [
    "type(docembeddings_transformed)"
   ]
  },
  {
   "cell_type": "code",
   "execution_count": 26,
   "metadata": {
    "ExecuteTime": {
     "end_time": "2019-07-01T12:35:42.267677Z",
     "start_time": "2019-07-01T12:35:42.260989Z"
    }
   },
   "outputs": [
    {
     "data": {
      "text/plain": [
       "(4000, 2)"
      ]
     },
     "execution_count": 26,
     "metadata": {},
     "output_type": "execute_result"
    }
   ],
   "source": [
    "XX = docembeddings_transformed[:4000, :]\n",
    "XX.shape"
   ]
  },
  {
   "cell_type": "code",
   "execution_count": 27,
   "metadata": {
    "ExecuteTime": {
     "end_time": "2019-07-01T12:35:43.174363Z",
     "start_time": "2019-07-01T12:35:42.949671Z"
    }
   },
   "outputs": [
    {
     "data": {
      "image/png": "[encoded data removed]",
      "text/plain": [
       "<Figure size 640x640 with 1 Axes>"
      ]
     },
     "metadata": {},
     "output_type": "display_data"
    }
   ],
   "source": [
    "# get the (x, y) coordinates\n",
    "x, y = XX.transpose()[0], XX.transpose()[1]\n",
    "# draw the points into the landscape\n",
    "fig, ax = plt.subplots(figsize=(4, 4), dpi=160, facecolor='w')\n",
    "ax.scatter(x,  y,  2, marker='x', c='b')\n",
    "# show the image\n",
    "plt.axis('off')\n",
    "plt.show()"
   ]
  },
  {
   "cell_type": "markdown",
   "metadata": {},
   "source": [
    "### Document embedding via document descriptors\n",
    "\n",
    "We can consider document descriptors to be some kind of summary of the document. We will use them to define a document embedding as the average of word embeddings of words that appear in document descriptors.\n",
    "\n",
    "Let's first see how to access descriptors of the document with CELEX number 22015P0513(01)."
   ]
  },
  {
   "cell_type": "code",
   "execution_count": 28,
   "metadata": {},
   "outputs": [],
   "source": [
    "descriptors = pg.execute(\"\"\"\n",
    "    SELECT * FROM document_descriptors WHERE document_celex_num='22015P0513(01)';\n",
    "\"\"\")"
   ]
  },
  {
   "cell_type": "code",
   "execution_count": 29,
   "metadata": {},
   "outputs": [
    {
     "name": "stdout",
     "output_type": "stream",
     "text": [
      "[{'document_celex_num': '22015P0513(01)', 'descriptor_name': 'Africa'}, {'document_celex_num': '22015P0513(01)', 'descriptor_name': 'deforestation'}, {'document_celex_num': '22015P0513(01)', 'descriptor_name': 'Democratic Republic of the Congo'}, {'document_celex_num': '22015P0513(01)', 'descriptor_name': 'disease prevention'}, {'document_celex_num': '22015P0513(01)', 'descriptor_name': 'economic cooperation'}, {'document_celex_num': '22015P0513(01)', 'descriptor_name': 'international cooperation'}, {'document_celex_num': '22015P0513(01)', 'descriptor_name': 'nature reserve'}]\n"
     ]
    }
   ],
   "source": [
    "print(descriptors)\n",
    "#print(descriptors[0]['descriptor_name'])"
   ]
  },
  {
   "cell_type": "markdown",
   "metadata": {},
   "source": [
    "We gather them in a dictionary 'all_descriptors', where keys are CELEX numbers of documents and values are lists of their descriptors."
   ]
  },
  {
   "cell_type": "code",
   "execution_count": 30,
   "metadata": {},
   "outputs": [],
   "source": [
    "# %load -s get_descriptors document_embeddings.py\n",
    "def get_descriptors(indices, documents):\n",
    "    \"\"\"Returns a dictionary of descriptors for specified documents\"\"\"\n",
    "\n",
    "    # The function returns dictionary 'descriptors' where keys are CELEX numbers of documents and values are descriptors\n",
    "    # that correspond to appropriate document\n",
    "    descriptors = {}\n",
    "\n",
    "    for i in indices:\n",
    "        celex = documents[i]['document_celex_num']\n",
    "        doc_descriptors = pg.execute(\"\"\"\n",
    "            SELECT * FROM document_descriptors WHERE document_celex_num='{}';\n",
    "            \"\"\".format(celex))\n",
    "        for descriptor_instance in doc_descriptors:\n",
    "            if celex not in descriptors:\n",
    "                descriptors[celex] = [descriptor_instance['descriptor_name']]\n",
    "            else:\n",
    "                descriptors[celex].append(descriptor_instance['descriptor_name'])\n",
    "    return descriptors\n"
   ]
  },
  {
   "cell_type": "code",
   "execution_count": 31,
   "metadata": {},
   "outputs": [],
   "source": [
    "# all_descriptors = get_descriptors([i for i in range(N)])"
   ]
  },
  {
   "cell_type": "markdown",
   "metadata": {},
   "source": [
    "We define new document embedding, run it on all documents and save it in variable 'descriptor_embedding'. Further, we reduce the dimension of the embedding and plot it."
   ]
  },
  {
   "cell_type": "code",
   "execution_count": 32,
   "metadata": {},
   "outputs": [],
   "source": [
    "# %load -s descemb document_embeddings.py\n",
    "def descemb(documents, descriptors, wv):\n",
    "    \"\"\"Given a dictionary of documents with their descriptors, returns document embeddings based on the descriptors.\"\"\"\n",
    "\n",
    "    embedding = np.zeros((len(documents), wv.vector_size), dtype=np.float32)\n",
    "    #go through documents\n",
    "    for id, doc in enumerate(documents):\n",
    "        celex = doc['document_celex_num']\n",
    "        doc_descriptors = descriptors[celex]\n",
    "        doc_desctext = \" \".join(doc_descriptors)\n",
    "        embedding[id, :] = simple_docemb(doc_desctext, \" \", wv)\n",
    "    return embedding\n"
   ]
  },
  {
   "cell_type": "code",
   "execution_count": 33,
   "metadata": {},
   "outputs": [],
   "source": [
    "# descriptors_embedding = descriptor_embeddings(documents)\n",
    "# descriptors_embedding_transformed = TSNE(n_components=2, random_state=rand_seed).fit_transform(descriptors_embedding[:4000,:])"
   ]
  },
  {
   "cell_type": "code",
   "execution_count": 34,
   "metadata": {},
   "outputs": [
    {
     "data": {
      "image/png": "[encoded data removed]",
      "text/plain": [
       "<Figure size 640x640 with 1 Axes>"
      ]
     },
     "metadata": {},
     "output_type": "display_data"
    }
   ],
   "source": [
    "x, y = descriptors_embedding_transformed.transpose()[0], descriptors_embedding_transformed.transpose()[1]\n",
    "fig, ax = plt.subplots(figsize=(4, 4), dpi=160, facecolor='w')\n",
    "ax.scatter(x,  y,  2, marker='x', c='b')\n",
    "plt.axis('off')\n",
    "plt.show()"
   ]
  },
  {
   "cell_type": "markdown",
   "metadata": {},
   "source": [
    "### Combined document embedding\n",
    "\n",
    "We define a new document embedding as a linear combination of already defined ones. After reducing the dimension, we plot it."
   ]
  },
  {
   "cell_type": "code",
   "execution_count": 35,
   "metadata": {},
   "outputs": [],
   "source": [
    "# %load -s combemb document_embeddings.py\n",
    "def combemb(document_embeddings, descriptor_embeddings, alpha):\n",
    "    \"\"\"Combines the two embeddings as a linear combination\"\"\"\n",
    "    return alpha*document_embeddings + (1-alpha)*descriptor_embeddings\n"
   ]
  },
  {
   "cell_type": "code",
   "execution_count": 36,
   "metadata": {},
   "outputs": [
    {
     "name": "stdout",
     "output_type": "stream",
     "text": [
      "<class 'numpy.ndarray'>\n"
     ]
    }
   ],
   "source": [
    "shortened = non_null[:4000]\n",
    "print(type(shortened[0]))\n",
    "#combined = combined_embedding(non_null[:4000, :], descriptors_embedding[:4000, :], 0.5)\n",
    "#combined_transformed = TSNE(n_components=2, random_state=4).fit_transform(combined)"
   ]
  },
  {
   "cell_type": "markdown",
   "metadata": {},
   "source": [
    "### Similarity of documents\n",
    "\n",
    "In this section we will pick a specific document and find others that are most similar to it. We will use methotds we already used for word analysis and more.\n",
    "\n",
    "We start by picking a document. We'll try to find similar ones."
   ]
  },
  {
   "cell_type": "code",
   "execution_count": 37,
   "metadata": {},
   "outputs": [
    {
     "data": {
      "text/plain": [
       "{'document_id': 163,\n",
       " 'document_celex_num': '21990A0515(03)',\n",
       " 'document_title': 'Agreement in the form of an Exchange of Letters concerning the provisional application of the Protocol defining, for the period 18 January 1990 to 17 January 1993, the fishing opportunities and the financial contribution provided for by the Agreement between the European Economic Community and the Republic of Seychelles on fishing off Seychelles',\n",
       " 'document_author': 'European Economic Community',\n",
       " 'document_form': 'International agreement',\n",
       " 'document_date': datetime.date(1990, 4, 25),\n",
       " 'document_text': 'Avis juridique important|21990A0515(03)Agreement in the form of an Exchange of Letters concerning the provisional application of the Protocol defining, for the period 18 January 1990 to 17 January 1993, the fishing opportunities and the financial contribution provided for by the Agreement between the European Economic Community and the Republic of Seychelles on fishing off SeychellesOfficial Journal L 125 , 15/05/1990 P. 0038 AGREEMENTin the form ofan Exchange of Letters concerning the provisional application of the Protocol defining, for theperiod 18 January 1990 to 17 January 1993, the fishing opportunities and the financial contributionprovided for by the Agreement between the European Economic Community and the Republic ofSeychelles on fishing off SeychellesA.Letter from the Republic of Seychelles Sir, With reference to the draft Protocol, initialled in Victoria on 17 January 1990, establishing thefishing opportunities and the financial contribution for the period 18 January 1990 to 17 January1993, I have the honour to inform you that the Republic of Seychelles is ready to apply thisProtocol on a provisional basis, with effect from 18 January 1990, pending its entry into force inaccordance with Article 6 of the Protocol, provided that the European Economic Community isprepared to do the same. This is on the understanding that a first instalment equal to one-third of the financialcompensation specified in Article 2 of the Protocol is to be paid by 30 April 1990. I should be obliged if you would confirm the European Economic Communitys agreement to suchprovisional application. Please accept, Sir, the assurance of my highest consideration. For the Republic of SeychellesB.Letter from the European Economic Community Sir, I am in receipt of your letter of todays date, which reads as follows: With reference to the draft Protocol, initialled in Victoria on 17 January 1990, establishing thefishing opportunities and the financial contribution for the period 18 January 1990 to 17 January1993, I have the honour to inform you that the Republic of Seychelles is ready to apply thisProtocoll on a provisional basis, with effect from 18 January 1990, pending its entry into force inaccordance with Article 6 of the Protocol, provided that the European Economic Community isprepared to do the same. This is on the understanding that a first instalment equal to one-third of the financialcompensation specified in Article 2 of the Protocol is to be paid by 30 April 1990. I should be obliged if you would confirm the European Economic Community`s agreement to suchprovisional application.I have the honour to confirm the European Economic Communitys agreementto this provisional application of the Protocol. Please accecpt, Sir, the assurance of my highest consideration. For the EuropeanEconomicCommunity Top'}"
      ]
     },
     "execution_count": 37,
     "metadata": {},
     "output_type": "execute_result"
    }
   ],
   "source": [
    "doc_index = 168\n",
    "doc_embedded = docembeddings_transformed[doc_index]\n",
    "documents[doc_index]"
   ]
  },
  {
   "cell_type": "code",
   "execution_count": 38,
   "metadata": {},
   "outputs": [],
   "source": [
    "# %load -s kNN document_embeddings.py\n",
    "def kNN(embedding, k, de, similarity):\n",
    "    \"\"\"Get the k nearest neighbors of a particular document\"\"\"\n",
    "\n",
    "    # calculate the similarities and revert it\n",
    "    sims = [similarity(embedding, d) for d in de]\n",
    "\n",
    "    # sort and get the corresponding indices\n",
    "    indices = []\n",
    "    for c, index in enumerate(np.argsort(sims)):\n",
    "        if c == k:\n",
    "            break\n",
    "        indices.append(index)\n",
    "\n",
    "    # return indices of the neighbors\n",
    "    return indices\n"
   ]
  },
  {
   "cell_type": "markdown",
   "metadata": {},
   "source": [
    "We find $k$ documents whose document embeddings are closest to the chosen document. We save their document embeddings in 'doc_neighbors', their distances form chosen document's document embedding in 'doc_distances' and their indices in 'indices'."
   ]
  },
  {
   "cell_type": "code",
   "execution_count": 39,
   "metadata": {},
   "outputs": [],
   "source": [
    "k = 20\n",
    "indices = kNN(doc_embedded, k, XX, similarity=euclid_similarity)"
   ]
  },
  {
   "cell_type": "code",
   "execution_count": 40,
   "metadata": {},
   "outputs": [
    {
     "name": "stdout",
     "output_type": "stream",
     "text": [
      "[168, 229, 398, 988, 613, 388, 1377, 983, 1003, 1007, 799, 201, 284, 215, 696, 283, 334, 559, 209, 466]\n"
     ]
    }
   ],
   "source": [
    "print(indices)"
   ]
  },
  {
   "cell_type": "code",
   "execution_count": 41,
   "metadata": {},
   "outputs": [
    {
     "name": "stdout",
     "output_type": "stream",
     "text": [
      "Agreement in the form of an Exchange of Letters concerning the provisional application of the Protocol defining, for the period 18 January 1990 to 17 January 1993, the fishing opportunities and the financial contribution provided for by the Agreement between the European Economic Community and the Republic of Seychelles on fishing off Seychelles\n",
      " \n",
      "Agreement in the form of an exchange of letters concerning the provisional application of the Protocol defining, for the period 18 January 1993 to 17 January 1996, the fishing opportunities and the financial contribution provided for by the Agreement between the European Community and the Republic of Seychelles on fishing off Seychelles\n",
      " \n",
      "Agreement in the form of an Exchange of Letters concerning the provisional application of the Protocol defining, for the period from 18 January to 17 January 1999, the fishing oppportunities and financial contribution provided for by the Agreement between the European Economic Community and the Republic of Seychelles on fishing off Seychelles\n",
      " \n",
      "Agreement in the form of an Exchange of Letters concerning the provisional application of the Protocol defining, for the period from 18 January 2002 to 17 January 2005, the fishing possibilities and the financial contribution provided for in the Agreement between the European Economic Community and the Republic of Seychelles on fishing off Seychelles\n",
      " \n",
      "Agreement in the form of an Exchange of Letters concerning the provisional application of the Protocol, defining, for the period 18 January 1999 to 17 January 2002, the fishing opportunities and the financial contribution provided for by the Agreement between the European Economic Community and the Republic of Seychelles on fishing off Seychelles\n",
      " \n"
     ]
    }
   ],
   "source": [
    "for i in indices[:5]:\n",
    "    d = documents[i]\n",
    "    print(d['document_title'])\n",
    "    print(' ')"
   ]
  },
  {
   "cell_type": "code",
   "execution_count": 42,
   "metadata": {},
   "outputs": [],
   "source": [
    "#celex_num = documents[indices[0]]['document_celex_num']\n",
    "#print(\"CELEX number of chosen document: {}\".format(celex_num))\n",
    "#neighbors_celex_nums = [documents[i]['document_celex_num'] for i in indices]\n",
    "#neighbours_documents = []"
   ]
  },
  {
   "cell_type": "code",
   "execution_count": 43,
   "metadata": {},
   "outputs": [],
   "source": [
    "#neighbors_descriptors = get_descriptors(indices)\n",
    "#print(neighbors_descriptors)"
   ]
  },
  {
   "cell_type": "code",
   "execution_count": 44,
   "metadata": {},
   "outputs": [],
   "source": [
    "#neighbors_descriptors_embedding = descriptor_embeddings()"
   ]
  },
  {
   "cell_type": "markdown",
   "metadata": {},
   "source": [
    "Let's embedd the database with descriptor embedding. On the plot shown below we see the embeddings are close, but not as close as they were when embedded with simple document embedding."
   ]
  },
  {
   "cell_type": "code",
   "execution_count": 45,
   "metadata": {},
   "outputs": [],
   "source": [
    "def plot_neighbors(emb, indices):\n",
    "    fig, ax = plt.subplots(figsize=(4, 4), dpi=160, facecolor='w')\n",
    "    \n",
    "    x, y = emb.transpose()[0], emb.transpose()[1]\n",
    "    ax.scatter(x, y, 2, marker='x', c='b')\n",
    "    \n",
    "    temp = emb[indices,:]\n",
    "    x, y = temp.transpose()[0], temp.transpose()[1]\n",
    "    ax.scatter(x, y, 10, marker='o', c='r')\n",
    "\n",
    "    plt.axis('off')\n",
    "    plt.show()\n",
    "    return None"
   ]
  },
  {
   "cell_type": "code",
   "execution_count": 46,
   "metadata": {},
   "outputs": [],
   "source": [
    "# plot_neighbors(descriptors_embedding_transformed, indices)"
   ]
  },
  {
   "cell_type": "code",
   "execution_count": 47,
   "metadata": {},
   "outputs": [],
   "source": [
    "focus_desc_embedding = descriptors_embedding_transformed[indices[0]]\n",
    "indices2 = kNN(focus_desc_embedding, k, de=descriptors_embedding_transformed, similarity=euclid_similarity)"
   ]
  },
  {
   "cell_type": "code",
   "execution_count": 48,
   "metadata": {},
   "outputs": [],
   "source": [
    "# plot_neighbors(descriptors_embedding_transformed, indices2)"
   ]
  },
  {
   "cell_type": "code",
   "execution_count": 49,
   "metadata": {},
   "outputs": [
    {
     "name": "stdout",
     "output_type": "stream",
     "text": [
      "Title of neighboring document with id 168: Agreement in the form of an Exchange of Letters concerning the provisional application of the Protocol defining, for the period 18 January 1990 to 17 January 1993, the fishing opportunities and the financial contribution provided for by the Agreement between the European Economic Community and the Republic of Seychelles on fishing off Seychelles\n",
      " \n",
      "Title of neighboring document with id 169: Protocol defining for the period 18 January 1990 to 17 January 1993 the fishing opportunities and the financial contribution provided for by the Agreement between the European Economic Community and the Republic of Seychelles On fishing off Seychelles\n",
      " \n",
      "Title of neighboring document with id 229: Agreement in the form of an exchange of letters concerning the provisional application of the Protocol defining, for the period 18 January 1993 to 17 January 1996, the fishing opportunities and the financial contribution provided for by the Agreement between the European Community and the Republic of Seychelles on fishing off Seychelles\n",
      " \n",
      "Title of neighboring document with id 171: Protocol establishing, for the period from 1 January 1990 to 31 December 1991, the fishing rights and financial compensation provided for in the Agreement between the European Economic Community and the Government of the Republic of Guinea on fishing off the Guinean coast\n",
      " \n",
      "Title of neighboring document with id 170: Agreement in the form of an Exchange of Letters concerning the provisional application of the Protocol establishing, for the period from 1 January 1990 to 31 December 1991, the fishing rights and financial compensation provided for in the Agreement between the European Economic Community and the Government of the Republic of Guinea on fishing off the Guinean coast\n",
      " \n"
     ]
    }
   ],
   "source": [
    "for i in indices2[:5]:\n",
    "    print('Title of neighboring document with id {}: {}'.format(i, documents[i]['document_title']))\n",
    "    print(' ')"
   ]
  },
  {
   "cell_type": "code",
   "execution_count": 50,
   "metadata": {},
   "outputs": [],
   "source": [
    "# plot_neighbors(XX, indices2)"
   ]
  },
  {
   "cell_type": "code",
   "execution_count": 51,
   "metadata": {},
   "outputs": [],
   "source": [
    "# plot_neighbors(XX, indices)"
   ]
  },
  {
   "cell_type": "markdown",
   "metadata": {},
   "source": [
    "We will plot combined embedding for values of $\\alpha = 0,\\ 0.25,\\ 0.5,\\ 0.75,\\ 1$. We color $k$ nearest neighbors based on the simple document embedding with red and $k$ nearest neighbors based on the descriptor embedding with yellow."
   ]
  },
  {
   "cell_type": "code",
   "execution_count": 52,
   "metadata": {},
   "outputs": [],
   "source": [
    "def plotAlphaBeta(emb1, emb2, alpha, indices1=indices, indices2=indices2):\n",
    "    emb = combemb(emb1, emb2, alpha)\n",
    "    temp1 = emb[indices, :]\n",
    "    temp2 = emb[indices2, :]\n",
    "    \n",
    "    fig, ax = plt.subplots(figsize=(4, 4), dpi=160, facecolor='w')\n",
    "    x, y = emb.transpose()[0], emb.transpose()[1]\n",
    "    ax.scatter(x,  y,  2, marker='x', c='b') \n",
    "    \n",
    "    x1, y1 = temp1.transpose()[0], temp1.transpose()[1]\n",
    "    ax.scatter(x1,  y1,  5, marker='o', c='r')\n",
    "    \n",
    "    x2, y2 = temp2.transpose()[0], temp2.transpose()[1]\n",
    "    ax.scatter(x2,  y2,  5, marker='o', c='y')\n",
    "    \n",
    "    plt.axis('off')\n",
    "    plt.show()\n",
    "    return None"
   ]
  },
  {
   "cell_type": "code",
   "execution_count": 53,
   "metadata": {},
   "outputs": [],
   "source": [
    "# plotAlphaBeta(XX, descriptors_embedding_transformed, 0)"
   ]
  },
  {
   "cell_type": "code",
   "execution_count": 54,
   "metadata": {},
   "outputs": [],
   "source": [
    "# plotAlphaBeta(XX, descriptors_embedding_transformed, 0.25)"
   ]
  },
  {
   "cell_type": "code",
   "execution_count": 55,
   "metadata": {},
   "outputs": [],
   "source": [
    "# plotAlphaBeta(XX, descriptors_embedding_transformed, 0.5)"
   ]
  },
  {
   "cell_type": "code",
   "execution_count": 56,
   "metadata": {},
   "outputs": [],
   "source": [
    "# plotAlphaBeta(XX, descriptors_embedding_transformed, 0.75)"
   ]
  },
  {
   "cell_type": "code",
   "execution_count": 57,
   "metadata": {},
   "outputs": [],
   "source": [
    "# plotAlphaBeta(XX, descriptors_embedding_transformed, 1)"
   ]
  },
  {
   "cell_type": "markdown",
   "metadata": {},
   "source": [
    "Upper plot shows combined embedding when $\\alpha = 1$, which is the same as simple document embedding. We notice that some of the documents that are close when embedded with descriptor embedding (yellow dots), are quite far when embedded with simple document embedding.\n",
    "\n",
    "Let's find the most distant one."
   ]
  },
  {
   "cell_type": "markdown",
   "metadata": {},
   "source": [
    "It doesn't seem like it's quite that different. This in combination with plots of combined embeddings for different $\\alpha$ suggests that simple document embedding doesn't represent \"closeness\" of data quite as well as descriptor embedding. \n",
    "\n",
    "Let's test our hypothesis on more exaples."
   ]
  },
  {
   "cell_type": "markdown",
   "metadata": {},
   "source": [
    "### Word Movers Distance\n",
    "\n",
    "In this section we will try to introduce a promising metric for measuring document similarity: Word Movers Distance. It is implemented in gensim library as a function \"wmdistance\".\n",
    "\n",
    "First let's pick two documents and compute WMD between them."
   ]
  },
  {
   "cell_type": "code",
   "execution_count": 58,
   "metadata": {},
   "outputs": [],
   "source": [
    "index1 = 15\n",
    "index2 = 3996\n",
    "doc1 = documents[index1]['document_text']\n",
    "doc2 = documents[index2]['document_text']"
   ]
  },
  {
   "cell_type": "code",
   "execution_count": 59,
   "metadata": {},
   "outputs": [
    {
     "data": {
      "text/plain": [
       "0.09852209221710648"
      ]
     },
     "execution_count": 59,
     "metadata": {},
     "output_type": "execute_result"
    }
   ],
   "source": [
    "wv_wiki_en.wmdistance(doc1, doc2)"
   ]
  },
  {
   "cell_type": "markdown",
   "metadata": {},
   "source": [
    "Since WMD is very expensive to compute, we will use it on reduced set of closest neighbors. Let's focuse on 'doc1', find a larger set of neighbouring documents and find the k closest neighbors according to WMD."
   ]
  },
  {
   "cell_type": "code",
   "execution_count": 60,
   "metadata": {},
   "outputs": [],
   "source": [
    "k = 100\n",
    "DET = descriptors_embedding_transformed\n",
    "candidates_ids = kNN(DET[index1], k, DET, euclid_similarity)"
   ]
  },
  {
   "cell_type": "code",
   "execution_count": 61,
   "metadata": {},
   "outputs": [],
   "source": [
    "texts = [documents_stripped[i] for i in candidates_ids]\n",
    "#n = 0\n",
    "#for i in candidates_ids:\n",
    "#    texts[n] = documents[i]['document_text']\n",
    "#    n += 1\n",
    "k = 10\n",
    "WMDids = kNN(texts[0], k, texts, wv_wiki_en.wmdistance)"
   ]
  },
  {
   "cell_type": "code",
   "execution_count": 62,
   "metadata": {},
   "outputs": [
    {
     "name": "stdout",
     "output_type": "stream",
     "text": [
      "[0, 2, 64, 48, 1, 38, 14, 62, 53, 58]\n"
     ]
    }
   ],
   "source": [
    "print(WMDids)"
   ]
  },
  {
   "cell_type": "code",
   "execution_count": 63,
   "metadata": {},
   "outputs": [
    {
     "name": "stdout",
     "output_type": "stream",
     "text": [
      "[15, 216, 624, 459, 3831, 2042, 2839, 617, 2124, 2840]\n"
     ]
    }
   ],
   "source": [
    "print([candidates_ids[i] for i in WMDids])"
   ]
  },
  {
   "cell_type": "code",
   "execution_count": 64,
   "metadata": {},
   "outputs": [],
   "source": [
    "# for i in WMDids[:5]:\n",
    "#     print(documents[candidates_ids[i]]['document_title'])\n",
    "#     print(' ')"
   ]
  },
  {
   "cell_type": "markdown",
   "metadata": {},
   "source": [
    "Because WMD distance is very expensive, we want to check, if it makes any sense to even use it. We can choose different embeddings in which to find most similar documents and limit our search to those. For every embedding we find 50, 100, 500 and 1000 nearest neighbors to the chosen document and run our kNN function again for k=10, but this time we use WMD distance.\n",
    "\n",
    "We plot the results. The ten nearest neigbors are colored with different colors, depending on how many documents we limited our search on. Documents found after limiting ourselves to 50 documents are colored red, 100 green, 500 yellow and 1000 violet."
   ]
  },
  {
   "cell_type": "code",
   "execution_count": 65,
   "metadata": {},
   "outputs": [],
   "source": [
    "def compare_results_WMD(id1=index1, emb=XX):\n",
    "    fig, ax = plt.subplots(figsize=(4, 4), dpi=160, facecolor='w')\n",
    "    x, y = emb.transpose()[0], emb.transpose()[1]\n",
    "    ax.scatter(x,  y,  2, marker='x', c='b') \n",
    "    colors = {50: 'r', 100: 'g', 500: 'y', 1000: 'm'}\n",
    "    \n",
    "    for k in [50, 100, 500, 1000]:\n",
    "        candidates_ids = kNN(emb[id1], k, emb, euclid_similarity)\n",
    "        texts = [documents_stripped[i] for i in candidates_ids]\n",
    "        WMDids = kNN(texts[0], 10, texts, wv_wiki_en.wmdistance)\n",
    "        WMDids = [candidates_ids[i] for i in WMDids]\n",
    "        temp = emb[WMDids, :]\n",
    "        x, y = temp.transpose()[0], temp.transpose()[1]\n",
    "        ax.scatter(x, y, 10, marker='o', c=colors[k])\n",
    "        \n",
    "    plt.axis('off')\n",
    "    plt.show()\n",
    "    \n",
    "    return None"
   ]
  },
  {
   "cell_type": "markdown",
   "metadata": {},
   "source": [
    "Using document embedding by average."
   ]
  },
  {
   "cell_type": "code",
   "execution_count": 66,
   "metadata": {},
   "outputs": [],
   "source": [
    "# compare_results_WMD()"
   ]
  },
  {
   "cell_type": "markdown",
   "metadata": {},
   "source": [
    "Using document embedding by descriptors."
   ]
  },
  {
   "cell_type": "code",
   "execution_count": 67,
   "metadata": {},
   "outputs": [],
   "source": [
    "# compare_results_WMD(emb=descriptors_embedding_transformed)"
   ]
  },
  {
   "cell_type": "markdown",
   "metadata": {},
   "source": [
    "Using combined document embedding where each embedding contributes $\\alpha = 0.5$."
   ]
  },
  {
   "cell_type": "code",
   "execution_count": 68,
   "metadata": {},
   "outputs": [],
   "source": [
    "# compare_results_WMD(emb=combemb(docembeddings_transformed[:4000,:], descriptors_embedding_transformed, 0.5))"
   ]
  },
  {
   "cell_type": "markdown",
   "metadata": {},
   "source": [
    "We see that in the case of combined embedding results of our search for nearest documents differ the least depending on the limit of documents we set. This suggests that using combined embedding might be profitable and might produce the best results."
   ]
  },
  {
   "cell_type": "markdown",
   "metadata": {},
   "source": [
    "Let's test our hypothesis on other examples."
   ]
  },
  {
   "cell_type": "code",
   "execution_count": 69,
   "metadata": {},
   "outputs": [],
   "source": [
    "from random import randint\n",
    "id1 = randint(0, 4000)"
   ]
  },
  {
   "cell_type": "code",
   "execution_count": 70,
   "metadata": {},
   "outputs": [],
   "source": [
    "# compare_results_WMD(id1=id1)"
   ]
  },
  {
   "cell_type": "code",
   "execution_count": 71,
   "metadata": {},
   "outputs": [],
   "source": [
    "# compare_results_WMD(id1=id1,emb=descriptors_embedding_transformed)"
   ]
  },
  {
   "cell_type": "code",
   "execution_count": 72,
   "metadata": {},
   "outputs": [],
   "source": [
    "# compare_results_WMD(id1=id1, emb=combemb(docembeddings_transformed[:4000,:], descriptors_embedding_transformed, 0.5))"
   ]
  },
  {
   "cell_type": "markdown",
   "metadata": {},
   "source": [
    "## Training word embedding model\n",
    "\n",
    "The library ' gensim' enables us to train our own word-embedding model based on pretrained FastText model. We use all the text from all our documents and use the model to perform analysis of documents and their similarity.\n",
    "\n",
    "We trained our model seperately in order to avoid running expensive code with every run of the notebook. The training is done in the following way:\n",
    "\n",
    "```python\n",
    "from gensim.models import FastText\n",
    "\n",
    "trained_model = FastText(size=4, window=3, min_count=1)\n",
    "trained_model.build_vocab(sentences=documents_stripped)\n",
    "trained_model.train(sentences=documents_stripped, total_examples=len(documents_stripped), epochs=10)\n",
    "```\n",
    "\n",
    "The model is saved and available in this GitHub repository at [this link](https://github.com/ZivaUrbancic/enviroLENS/tree/master/word-embeddings/data/fasttext)."
   ]
  },
  {
   "cell_type": "code",
   "execution_count": 73,
   "metadata": {},
   "outputs": [],
   "source": [
    "from gensim.models import FastText\n",
    "path_tm = '../data/fasttext/trained_model.vec'\n",
    "trained_model = FastText.load(path_tm)"
   ]
  },
  {
   "cell_type": "code",
   "execution_count": 74,
   "metadata": {},
   "outputs": [
    {
     "data": {
      "text/plain": [
       "300"
      ]
     },
     "execution_count": 74,
     "metadata": {},
     "output_type": "execute_result"
    }
   ],
   "source": [
    "trained_model.wv.vector_size"
   ]
  },
  {
   "cell_type": "code",
   "execution_count": 75,
   "metadata": {},
   "outputs": [
    {
     "name": "stdout",
     "output_type": "stream",
     "text": [
      "Processed document number = 0\n",
      "Processed document number = 10000\n"
     ]
    }
   ],
   "source": [
    "limit = 15000\n",
    "# limit = 50\n",
    "we_trained = dataset_embedding(documents[:limit], stop_words, trained_model.wv, simple_docemb)"
   ]
  },
  {
   "cell_type": "code",
   "execution_count": 76,
   "metadata": {},
   "outputs": [],
   "source": [
    "# trained_docemb_transformed = TSNE(n_components=2, random_state=rand_seed).fit_transform(we_trained[:4000,:])"
   ]
  },
  {
   "cell_type": "code",
   "execution_count": 77,
   "metadata": {},
   "outputs": [
    {
     "data": {
      "image/png": "[encoded data removed]",
      "text/plain": [
       "<Figure size 640x640 with 1 Axes>"
      ]
     },
     "metadata": {},
     "output_type": "display_data"
    }
   ],
   "source": [
    "# get the (x, y) coordinates\n",
    "x, y = trained_docemb_transformed.transpose()[0], trained_docemb_transformed.transpose()[1]\n",
    "# draw the points into the landscape\n",
    "fig, ax = plt.subplots(figsize=(4, 4), dpi=160, facecolor='w')\n",
    "ax.scatter(x,  y,  2, marker='x', c='b')\n",
    "# show the image\n",
    "plt.axis('off')\n",
    "plt.show()"
   ]
  },
  {
   "cell_type": "code",
   "execution_count": 78,
   "metadata": {},
   "outputs": [],
   "source": [
    "k = 10\n",
    "tr_indices = kNN(trained_docemb_transformed[doc_index], k, trained_docemb_transformed, euclid_similarity)"
   ]
  },
  {
   "cell_type": "code",
   "execution_count": 79,
   "metadata": {},
   "outputs": [
    {
     "data": {
      "image/png": "[encoded data removed]",
      "text/plain": [
       "<Figure size 640x640 with 1 Axes>"
      ]
     },
     "metadata": {},
     "output_type": "display_data"
    }
   ],
   "source": [
    "plot_neighbors(trained_docemb_transformed, tr_indices)"
   ]
  },
  {
   "cell_type": "markdown",
   "metadata": {},
   "source": [
    "Let's plot the nearest neighbors we got from embedding the documents as average of Word2Vec vectors of words and then do the same with the nearest neighbors in embedding based on embedding of document descriptors."
   ]
  },
  {
   "cell_type": "code",
   "execution_count": 80,
   "metadata": {},
   "outputs": [],
   "source": [
    "# plot_neighbors(trained_docemb_transformed, indices)"
   ]
  },
  {
   "cell_type": "code",
   "execution_count": 81,
   "metadata": {},
   "outputs": [],
   "source": [
    "# plot_neighbors(trained_docemb_transformed, indices2)"
   ]
  },
  {
   "cell_type": "code",
   "execution_count": 82,
   "metadata": {},
   "outputs": [],
   "source": [
    "# compare_results_WMD(emb=trained_docemb_transformed, metric=trained_model.wmdistance)"
   ]
  },
  {
   "cell_type": "markdown",
   "metadata": {},
   "source": [
    "We managed to get different lists of k nearest neighbors for different embeddings. A measure of how well they perform might be Word Movers Distance. Let's compute it for all elements in those lists."
   ]
  },
  {
   "cell_type": "code",
   "execution_count": 83,
   "metadata": {},
   "outputs": [],
   "source": [
    "texts = [documents_stripped[i] for i in indices]\n",
    "dist1 = [wv_wiki_en.wmdistance(t, texts[0]) for t in texts]\n",
    "av1 = sum(dist1)/len(dist1)"
   ]
  },
  {
   "cell_type": "code",
   "execution_count": 84,
   "metadata": {},
   "outputs": [],
   "source": [
    "texts = [documents_stripped[i] for i in indices2]\n",
    "dist2 = [wv_wiki_en.wmdistance(t, texts[0]) for t in texts]\n",
    "av2 = sum(dist2)/len(dist2)"
   ]
  },
  {
   "cell_type": "code",
   "execution_count": 85,
   "metadata": {},
   "outputs": [],
   "source": [
    "texts = [documents_stripped[i] for i in tr_indices]\n",
    "dist3 = [wv_wiki_en.wmdistance(t, texts[0]) for t in texts]\n",
    "av3 = sum(dist3)/len(dist3)"
   ]
  },
  {
   "cell_type": "code",
   "execution_count": 86,
   "metadata": {},
   "outputs": [
    {
     "name": "stdout",
     "output_type": "stream",
     "text": [
      "Word Movers Distances of kNN for simple document embedding: ['0.00', '0.03', '0.02', '0.03', '0.02', '0.05', '0.07', '0.06', '0.08', '0.09', '0.05', '0.06', '0.09', '0.07', '0.05', '0.08', '0.08', '0.07', '0.06', '0.08']\n",
      "Average: 0.06\n",
      " \n",
      "Word Movers Distances of kNN for descriptor embedding: ['0.00', '0.14', '0.03', '0.13', '0.05', '0.05', '0.13', '0.06', '0.14', '0.15', '0.21', '0.18', '0.14', '0.14', '0.16', '0.17', '0.07', '0.13', '0.20', '0.20']\n",
      "Average: 0.12\n",
      " \n",
      "Word Movers Distances of kNN for document embedding trained on our data: ['0.00', '0.02', '0.05', '0.02', '0.08', '0.03', '0.06', '0.06', '0.05', '0.08']\n",
      "Average: 0.05\n"
     ]
    }
   ],
   "source": [
    "print(\"Word Movers Distances of kNN for simple document embedding: {}\".format([\"%.2f\"%i for i in dist1]))\n",
    "print(\"Average: {}\".format(\"%.2f\" % av1))\n",
    "print(\" \")\n",
    "print(\"Word Movers Distances of kNN for descriptor embedding: {}\".format([\"%.2f\"%i for i in dist2]))\n",
    "print(\"Average: {}\".format(\"%.2f\" % av2))\n",
    "print(\" \")\n",
    "print(\"Word Movers Distances of kNN for document embedding trained on our data: {}\".format([\"%.2f\"%i for i in dist3]))\n",
    "print(\"Average: {}\".format(\"%.2f\" % av3))"
   ]
  },
  {
   "cell_type": "code",
   "execution_count": 87,
   "metadata": {},
   "outputs": [],
   "source": [
    "def compare_distances(document_id, k):\n",
    "    indices =  kNN(XX[document_id], k, XX, euclid_similarity)\n",
    "    indices2 = kNN(descriptors_embedding_transformed[document_id], k, \n",
    "                   descriptors_embedding_transformed, euclid_similarity)\n",
    "    indices3 = kNN(trained_docemb_transformed[document_id], k, trained_docemb_transformed, euclid_similarity)\n",
    "    I = [indices, indices2, indices3]\n",
    "    av = [0, 0, 0]\n",
    "    for i in range(3):\n",
    "        texts = [documents_stripped[j] for j in I[i]]\n",
    "        dist = [wv_wiki_en.wmdistance(t, texts[0]) for t in texts]\n",
    "        av[i] = sum(dist)/len(dist)\n",
    "    return av    "
   ]
  },
  {
   "cell_type": "code",
   "execution_count": 88,
   "metadata": {},
   "outputs": [],
   "source": [
    "# averages = [0, 0, 0]\n",
    "# for i in range(500):\n",
    "#     c = compare_distances(i, 10)\n",
    "#     averages = [averages[j] + c[j] for j in range(3)]\n",
    "# print(averages)"
   ]
  }
 ],
 "metadata": {
  "kernelspec": {
   "display_name": "Python 3",
   "language": "python",
   "name": "python3"
  },
  "language_info": {
   "codemirror_mode": {
    "name": "ipython",
    "version": 3
   },
   "file_extension": ".py",
   "mimetype": "text/x-python",
   "name": "python",
   "nbconvert_exporter": "python",
   "pygments_lexer": "ipython3",
   "version": "3.7.3"
  }
 },
 "nbformat": 4,
 "nbformat_minor": 2
}
