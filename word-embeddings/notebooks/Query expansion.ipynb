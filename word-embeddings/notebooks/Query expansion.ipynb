{
 "cells": [
  {
   "cell_type": "markdown",
   "metadata": {},
   "source": [
    "# Query expansion"
   ]
  },
  {
   "cell_type": "markdown",
   "metadata": {},
   "source": [
    "In this notebook we will experiment with few different methods expanding users initial query."
   ]
  },
  {
   "cell_type": "code",
   "execution_count": 5,
   "metadata": {},
   "outputs": [
    {
     "name": "stdout",
     "output_type": "stream",
     "text": [
      "C:\\Users\\skralj\\Desktop\\envirolens\\word-embeddings\\notebooks\n"
     ]
    }
   ],
   "source": [
    "from gensim.models import KeyedVectors\n",
    "import numpy as np\n",
    "import os\n",
    "print(os.getcwd())"
   ]
  },
  {
   "cell_type": "code",
   "execution_count": 11,
   "metadata": {},
   "outputs": [],
   "source": [
    "model_path = '../data/fasttext/cc.en.300.vec'\n",
    "we_en = KeyedVectors.load_word2vec_format(model_path)"
   ]
  },
  {
   "cell_type": "markdown",
   "metadata": {},
   "source": [
    "###### Size of the vocabulary"
   ]
  },
  {
   "cell_type": "code",
   "execution_count": 18,
   "metadata": {},
   "outputs": [
    {
     "data": {
      "text/plain": [
       "2000000"
      ]
     },
     "execution_count": 18,
     "metadata": {},
     "output_type": "execute_result"
    }
   ],
   "source": [
    "len(we_en.vocab)"
   ]
  },
  {
   "cell_type": "markdown",
   "metadata": {},
   "source": [
    "###### Timing the computing time for each query"
   ]
  },
  {
   "cell_type": "markdown",
   "metadata": {},
   "source": [
    "Our model contains 2 million words. We are interested in the time it takes the to find similar words to our inital query."
   ]
  },
  {
   "cell_type": "code",
   "execution_count": 36,
   "metadata": {},
   "outputs": [],
   "source": [
    "from time import time\n",
    "\n",
    "def calculate_computing_time(words, model):\n",
    "    \"\"\"\n",
    "    Given a list of words and word embedding (model) this function returns the most similar \n",
    "    words to this word as well as the time it took to compute that result.\n",
    "    \"\"\"\n",
    "    start_time = time()\n",
    "    result = model.most_similar(positive=words)\n",
    "    \n",
    "    return result, time() - start_time"
   ]
  },
  {
   "cell_type": "code",
   "execution_count": 37,
   "metadata": {},
   "outputs": [
    {
     "data": {
      "text/plain": [
       "([('Deforestation', 0.8420504331588745),\n",
       "  ('de-forestation', 0.7416400909423828),\n",
       "  ('deforesting', 0.721744179725647),\n",
       "  ('reforestation', 0.6759119629859924),\n",
       "  ('deforested', 0.6683492660522461),\n",
       "  ('overexploitation', 0.6402685642242432),\n",
       "  ('clear-cutting', 0.633387565612793),\n",
       "  ('desertification', 0.6263412833213806),\n",
       "  ('forestation', 0.6201666593551636),\n",
       "  ('re-forestation', 0.6115913987159729)],\n",
       " 0.13412880897521973)"
      ]
     },
     "execution_count": 37,
     "metadata": {},
     "output_type": "execute_result"
    }
   ],
   "source": [
    "calculate_computing_time(['deforestation'], we_en)"
   ]
  },
  {
   "cell_type": "code",
   "execution_count": 38,
   "metadata": {},
   "outputs": [
    {
     "name": "stdout",
     "output_type": "stream",
     "text": [
      "0.13202642440795898\n"
     ]
    }
   ],
   "source": [
    "import random\n",
    "\n",
    "all_english_words = list(we_en.vocab.keys())\n",
    "random_words = random.sample(all_english_words, 50)\n",
    "\n",
    "# calculate average time it takes to compute the result\n",
    "total_time = 0\n",
    "for word in random_words:\n",
    "    result, time_needed = calculate_computing_time(word, we_en)\n",
    "    total_time += time_needed\n",
    "\n",
    "print(total_time/len(random_words))"
   ]
  },
  {
   "cell_type": "code",
   "execution_count": 39,
   "metadata": {},
   "outputs": [
    {
     "name": "stdout",
     "output_type": "stream",
     "text": [
      "0.13227663040161133\n"
     ]
    }
   ],
   "source": [
    "total_time = 0\n",
    "total_tries = 100\n",
    "for _ in range(total_tries):\n",
    "    random_pick = random.sample(random_words, 4)\n",
    "    result, time_needed = calculate_computing_time(word, we_en)\n",
    "    total_time += time_needed\n",
    "\n",
    "print(total_time/total_tries)"
   ]
  },
  {
   "cell_type": "markdown",
   "metadata": {},
   "source": [
    "## Testing query expansion"
   ]
  },
  {
   "cell_type": "markdown",
   "metadata": {},
   "source": [
    "Compute most similar words to our query and return results. Those results should be above some given treshold value. For example if we get top 10 most similar words and top result has cosine similarity of 0.28932, then that word is probably not that similar to our word, nor are any other."
   ]
  },
  {
   "cell_type": "code",
   "execution_count": 40,
   "metadata": {},
   "outputs": [
    {
     "name": "stdout",
     "output_type": "stream",
     "text": [
      "[('pollution', 0.6597203016281128), ('unpolluted', 0.6336122751235962), ('poluted', 0.6277227401733398), ('polluting', 0.6188726425170898), ('pollutants', 0.6181062459945679), ('smog-filled', 0.6178839802742004), ('non-polluted', 0.6104838848114014), ('pollute', 0.6028103828430176), ('unbreathable', 0.5904800295829773), ('smoggy', 0.5843187570571899)]\n"
     ]
    }
   ],
   "source": [
    "query = ['polluted', 'air']\n",
    "print(we_en.most_similar(positive=query))"
   ]
  },
  {
   "cell_type": "code",
   "execution_count": 43,
   "metadata": {},
   "outputs": [
    {
     "name": "stdout",
     "output_type": "stream",
     "text": [
      "[('flowing', 0.5391411781311035), ('water.As', 0.5355413556098938), ('water.But', 0.5353800654411316), ('water.Now', 0.5329791903495789), ('water.This', 0.5317260026931763), ('move', 0.5306128263473511), ('water--the', 0.5285866856575012), ('water--and', 0.5281214714050293), ('water.With', 0.5265851020812988), ('water.The', 0.5243165493011475)]\n"
     ]
    }
   ],
   "source": [
    "query = ['moving', 'water']\n",
    "print(we_en.most_similar(positive=query))"
   ]
  },
  {
   "cell_type": "code",
   "execution_count": null,
   "metadata": {},
   "outputs": [],
   "source": []
  }
 ],
 "metadata": {
  "kernelspec": {
   "display_name": "Python 3",
   "language": "python",
   "name": "python3"
  },
  "language_info": {
   "codemirror_mode": {
    "name": "ipython",
    "version": 3
   },
   "file_extension": ".py",
   "mimetype": "text/x-python",
   "name": "python",
   "nbconvert_exporter": "python",
   "pygments_lexer": "ipython3",
   "version": "3.6.3"
  }
 },
 "nbformat": 4,
 "nbformat_minor": 2
}
